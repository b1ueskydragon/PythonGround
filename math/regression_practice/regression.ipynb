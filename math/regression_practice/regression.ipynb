{
 "cells": [
  {
   "cell_type": "markdown",
   "source": [
    "## run with command\n",
    "$ jupyter notebook"
   ],
   "metadata": {
    "collapsed": false
   }
  },
  {
   "cell_type": "markdown",
   "source": [
    "## calculate gradient `a`\n",
    "$$a = \\dfrac{\\displaystyle{\\sum_{n=1}^N}x_{n}y_{n}}\n",
    "{\\displaystyle{\\sum_{n=1}^N}x_{n}^{2}}$$\n"
   ],
   "metadata": {
    "collapsed": false
   }
  },
  {
   "cell_type": "code",
   "execution_count": null,
   "outputs": [],
   "source": [
    "import matplotlib.pyplot as plt\n",
    "import pandas as pd\n"
   ],
   "metadata": {
    "collapsed": false,
    "pycharm": {
     "name": "#%%\n"
    }
   }
  },
  {
   "cell_type": "code",
   "execution_count": null,
   "outputs": [],
   "source": [
    "def get_df():\n",
    "    \"\"\"\n",
    "    :return: data frame\n",
    "    \"\"\"\n",
    "    return pd.read_csv('./sample.csv')\n"
   ],
   "metadata": {
    "collapsed": false,
    "pycharm": {
     "name": "#%%\n"
    }
   }
  },
  {
   "cell_type": "code",
   "execution_count": null,
   "outputs": [],
   "source": [
    "def plot_graph(x, y) -> None:\n",
    "    # Real value\n",
    "    plt.scatter(x, y, label='y')\n",
    "    \n",
    "    a = (x * y).sum() / (x * x).sum()\n",
    "\n",
    "    # Predicted value\n",
    "    plt.plot(x, a * x, label='y_hat', color='red')\n",
    "\n",
    "    plt.legend()\n",
    "    plt.show()\n"
   ],
   "metadata": {
    "collapsed": false,
    "pycharm": {
     "name": "#%%\n"
    }
   }
  },
  {
   "cell_type": "code",
   "execution_count": null,
   "outputs": [],
   "source": [
    "def data_frame_centering(df):\n",
    "    return df - df.mean()\n"
   ],
   "metadata": {
    "collapsed": false,
    "pycharm": {
     "name": "#%%\n"
    }
   }
  },
  {
   "cell_type": "markdown",
   "source": [
    "## Calculate prediction\n",
    "### Undoing centering first\n",
    "$$\n",
    "\\begin{align}\n",
    "{\\hat y} - {\\bar y} &= a (x - {\\bar x}) \\\\\n",
    "{\\hat y} &= a (x - {\\bar x}) + {\\bar y}\n",
    "\\end{align}\n",
    "$$\n"
   ],
   "metadata": {
    "collapsed": false
   }
  },
  {
   "cell_type": "code",
   "execution_count": null,
   "outputs": [],
   "source": [
    "def predict(x_new):\n",
    "    \"\"\"\n",
    "    :param x_new: new datum x to predict new result y\n",
    "    :return: y_hat\n",
    "    \"\"\"\n",
    "    df = get_df()\n",
    "    \n",
    "    # centering\n",
    "    df_c = data_frame_centering(df)\n",
    "\n",
    "    # after centering\n",
    "    x = df_c['x']\n",
    "    y = df_c['y']\n",
    "\n",
    "    # proper gradients `a` based by element product\n",
    "    a = (x * y).sum() / (x * x).sum()\n",
    "\n",
    "    mean = df.mean()\n",
    "\n",
    "    # centering x\n",
    "    xc = x_new - mean['x']\n",
    "\n",
    "    # Prediction with single regression\n",
    "    yc = a * xc\n",
    "\n",
    "    # Undo centering to original scale\n",
    "    y_hat = yc + mean['y']\n",
    "\n",
    "    return y_hat\n"
   ],
   "metadata": {
    "collapsed": false,
    "pycharm": {
     "name": "#%%\n"
    }
   }
  },
  {
   "cell_type": "code",
   "execution_count": null,
   "outputs": [],
   "source": [
    "dfc = data_frame_centering(get_df())\n",
    "dfc.head(3)\n",
    "dfc.describe()\n"
   ],
   "metadata": {
    "collapsed": false,
    "pycharm": {
     "name": "#%%\n"
    }
   }
  },
  {
   "cell_type": "code",
   "execution_count": null,
   "outputs": [],
   "source": [
    "plot_graph(dfc['x'], dfc['y'])\n"
   ],
   "metadata": {
    "collapsed": false,
    "pycharm": {
     "name": "#%%\n"
    }
   }
  },
  {
   "cell_type": "code",
   "execution_count": null,
   "outputs": [],
   "source": [
    "predict(40)  # interpolation x"
   ],
   "metadata": {
    "collapsed": false,
    "pycharm": {
     "name": "#%%\n"
    }
   }
  },
  {
   "cell_type": "code",
   "execution_count": null,
   "outputs": [],
   "source": [
    "predict(25)  # extrapolation x\n"
   ],
   "metadata": {
    "collapsed": false,
    "pycharm": {
     "name": "#%%\n"
    }
   }
  }
 ],
 "metadata": {
  "kernelspec": {
   "display_name": "Python 2",
   "language": "python",
   "name": "python2"
  },
  "language_info": {
   "codemirror_mode": {
    "name": "ipython",
    "version": 2
   },
   "file_extension": ".py",
   "mimetype": "text/x-python",
   "name": "python",
   "nbconvert_exporter": "python",
   "pygments_lexer": "ipython2",
   "version": "2.7.6"
  },
  "pycharm": {
   "stem_cell": {
    "cell_type": "raw",
    "source": [],
    "metadata": {
     "collapsed": false
    }
   }
  }
 },
 "nbformat": 4,
 "nbformat_minor": 0
}