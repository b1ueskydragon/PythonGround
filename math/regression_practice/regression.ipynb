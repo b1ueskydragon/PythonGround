{
 "cells": [
  {
   "cell_type": "markdown",
   "metadata": {},
   "source": [
    "## run with command\n",
    "$ jupyter notebook"
   ]
  },
  {
   "cell_type": "markdown",
   "metadata": {},
   "source": [
    "## calculate gradient `a`\n",
    "$$a = \\dfrac{\\displaystyle{\\sum_{n=1}^N}x_{n}y_{n}}\n",
    "{\\displaystyle{\\sum_{n=1}^N}x_{n}^{2}}$$"
   ]
  },
  {
   "cell_type": "code",
   "execution_count": null,
   "metadata": {},
   "outputs": [],
   "source": [
    "import pandas as pd\n",
    "import matplotlib.pyplot as plt"
   ]
  },
  {
   "cell_type": "code",
   "execution_count": null,
   "metadata": {},
   "outputs": [],
   "source": [
    "# data frame\n",
    "df = pd.read_csv('./sample.csv')\n"
   ]
  },
  {
   "cell_type": "code",
   "execution_count": null,
   "metadata": {},
   "outputs": [],
   "source": [
    "# centering\n",
    "df_c = df - df.mean()\n",
    "df_c.head(3)\n",
    "df_c.describe()"
   ]
  },
  {
   "cell_type": "code",
   "execution_count": null,
   "metadata": {},
   "outputs": [],
   "source": [
    "# after centering\n",
    "x = df_c['x']\n",
    "y = df_c['y']"
   ]
  },
  {
   "cell_type": "code",
   "execution_count": null,
   "metadata": {},
   "outputs": [],
   "source": [
    "# element product\n",
    "xx = x * x"
   ]
  },
  {
   "cell_type": "code",
   "execution_count": null,
   "metadata": {},
   "outputs": [],
   "source": [
    "xy = x * y"
   ]
  },
  {
   "cell_type": "code",
   "execution_count": null,
   "metadata": {},
   "outputs": [],
   "source": [
    "# proper gradients\n",
    "a = xy.sum() / xx.sum()\n",
    "a"
   ]
  },
  {
   "cell_type": "code",
   "execution_count": null,
   "metadata": {},
   "outputs": [],
   "source": [
    "# Real value\n",
    "plt.scatter(x, y, label='y')\n",
    "\n",
    "# Predicted value\n",
    "plt.plot(x, a * x, label='y_hat', color='red')\n",
    "\n",
    "plt.legend()\n",
    "plt.show()"
   ]
  },
  {
   "cell_type": "markdown",
   "metadata": {},
   "source": [
    "## Calculate prediction\n",
    "### Undoing centering first\n",
    "$$\n",
    "\\begin{align}\n",
    "y - {\\bar y} &= a (x - {\\bar x}) \\\\\n",
    "\\rightarrow y &= a (x - {\\bar x}) + {\\bar y}\n",
    "\\end{align}\n",
    "$$"
   ]
  },
  {
   "cell_type": "code",
   "execution_count": null,
   "metadata": {},
   "outputs": [],
   "source": [
    "# new datum x to predict new result y\n",
    "x_new = 40"
   ]
  },
  {
   "cell_type": "code",
   "execution_count": null,
   "metadata": {},
   "outputs": [],
   "source": [
    "mean = df.mean()\n",
    "mean['x']"
   ]
  },
  {
   "cell_type": "code",
   "execution_count": null,
   "metadata": {},
   "outputs": [],
   "source": [
    "# centering x\n",
    "xc = x_new - mean['x']\n",
    "xc"
   ]
  },
  {
   "cell_type": "code",
   "execution_count": null,
   "metadata": {},
   "outputs": [],
   "source": [
    "# Prediction with single regression\n",
    "yc = a * xc\n",
    "yc"
   ]
  },
  {
   "cell_type": "code",
   "execution_count": null,
   "metadata": {},
   "outputs": [],
   "source": [
    "# Undo centering to original scale\n",
    "y_hat = yc + mean['y']\n",
    "y_hat"
   ]
  },
  {
   "cell_type": "code",
   "execution_count": null,
   "metadata": {},
   "outputs": [],
   "source": [
    "def predict(x):\n",
    "    \"\"\"\n",
    "    :param x: new datum x to predict new result y\n",
    "    :return: y_hat\n",
    "    \"\"\"\n",
    "    # data frame\n",
    "    df = pd.read_csv('./sample.csv')\n",
    "    mean = df.mean()\n",
    "\n",
    "    # centering\n",
    "    df_c = df - df.mean()\n",
    "\n",
    "    # peek    \n",
    "    df_c.head(3)\n",
    "    df_c.describe()\n",
    "\n",
    "    # after centering\n",
    "    x = df_c['x']\n",
    "    y = df_c['y']\n",
    "\n",
    "    # element product\n",
    "    xx = x * x\n",
    "    xy = x * y\n",
    "\n",
    "    # proper gradients    \n",
    "    a = xy.sum() / xx.sum()\n",
    "\n",
    "    # centering x    \n",
    "    xc = x - mean['x']\n",
    "\n",
    "    # Prediction with single regression    \n",
    "    yc = a * xc\n",
    "\n",
    "    # Undo centering to original scale\n",
    "    y_hat = yc + mean['y']\n",
    "\n",
    "    return y_hat\n"
   ]
  },
  {
   "cell_type": "code",
   "execution_count": null,
   "metadata": {},
   "outputs": [],
   "source": [
    "predict(40)  # interpolation x"
   ]
  },
  {
   "cell_type": "code",
   "execution_count": null,
   "metadata": {},
   "outputs": [],
   "source": [
    "predict(25)  # extrapolation x"
   ]
  }
 ],
 "metadata": {
  "kernelspec": {
   "display_name": "Python 2",
   "language": "python",
   "name": "python2"
  },
  "language_info": {
   "codemirror_mode": {
    "name": "ipython",
    "version": 2
   },
   "file_extension": ".py",
   "mimetype": "text/x-python",
   "name": "python",
   "nbconvert_exporter": "python",
   "pygments_lexer": "ipython2",
   "version": "2.7.6"
  }
 },
 "nbformat": 4,
 "nbformat_minor": 0
}
